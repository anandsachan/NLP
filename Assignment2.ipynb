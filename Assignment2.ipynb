{
  "nbformat": 4,
  "nbformat_minor": 0,
  "metadata": {
    "colab": {
      "name": "Assignment_2.ipynb",
      "provenance": [],
      "collapsed_sections": []
    },
    "kernelspec": {
      "name": "python3",
      "display_name": "Python 3"
    }
  },
  "cells": [
    {
      "cell_type": "code",
      "metadata": {
        "id": "37ZYy9o0KL-g",
        "colab_type": "code",
        "colab": {
          "base_uri": "https://localhost:8080/",
          "height": 806
        },
        "outputId": "f1e1c8e9-2a3a-4539-a99b-935ffcc92769"
      },
      "source": [
        "import nltk\n",
        "nltk.download(\"popular\")"
      ],
      "execution_count": 1,
      "outputs": [
        {
          "output_type": "stream",
          "text": [
            "[nltk_data] Downloading collection 'popular'\n",
            "[nltk_data]    | \n",
            "[nltk_data]    | Downloading package cmudict to /root/nltk_data...\n",
            "[nltk_data]    |   Unzipping corpora/cmudict.zip.\n",
            "[nltk_data]    | Downloading package gazetteers to /root/nltk_data...\n",
            "[nltk_data]    |   Unzipping corpora/gazetteers.zip.\n",
            "[nltk_data]    | Downloading package genesis to /root/nltk_data...\n",
            "[nltk_data]    |   Unzipping corpora/genesis.zip.\n",
            "[nltk_data]    | Downloading package gutenberg to /root/nltk_data...\n",
            "[nltk_data]    |   Unzipping corpora/gutenberg.zip.\n",
            "[nltk_data]    | Downloading package inaugural to /root/nltk_data...\n",
            "[nltk_data]    |   Unzipping corpora/inaugural.zip.\n",
            "[nltk_data]    | Downloading package movie_reviews to\n",
            "[nltk_data]    |     /root/nltk_data...\n",
            "[nltk_data]    |   Unzipping corpora/movie_reviews.zip.\n",
            "[nltk_data]    | Downloading package names to /root/nltk_data...\n",
            "[nltk_data]    |   Unzipping corpora/names.zip.\n",
            "[nltk_data]    | Downloading package shakespeare to /root/nltk_data...\n",
            "[nltk_data]    |   Unzipping corpora/shakespeare.zip.\n",
            "[nltk_data]    | Downloading package stopwords to /root/nltk_data...\n",
            "[nltk_data]    |   Unzipping corpora/stopwords.zip.\n",
            "[nltk_data]    | Downloading package treebank to /root/nltk_data...\n",
            "[nltk_data]    |   Unzipping corpora/treebank.zip.\n",
            "[nltk_data]    | Downloading package twitter_samples to\n",
            "[nltk_data]    |     /root/nltk_data...\n",
            "[nltk_data]    |   Unzipping corpora/twitter_samples.zip.\n",
            "[nltk_data]    | Downloading package omw to /root/nltk_data...\n",
            "[nltk_data]    |   Unzipping corpora/omw.zip.\n",
            "[nltk_data]    | Downloading package wordnet to /root/nltk_data...\n",
            "[nltk_data]    |   Unzipping corpora/wordnet.zip.\n",
            "[nltk_data]    | Downloading package wordnet_ic to /root/nltk_data...\n",
            "[nltk_data]    |   Unzipping corpora/wordnet_ic.zip.\n",
            "[nltk_data]    | Downloading package words to /root/nltk_data...\n",
            "[nltk_data]    |   Unzipping corpora/words.zip.\n",
            "[nltk_data]    | Downloading package maxent_ne_chunker to\n",
            "[nltk_data]    |     /root/nltk_data...\n",
            "[nltk_data]    |   Unzipping chunkers/maxent_ne_chunker.zip.\n",
            "[nltk_data]    | Downloading package punkt to /root/nltk_data...\n",
            "[nltk_data]    |   Unzipping tokenizers/punkt.zip.\n",
            "[nltk_data]    | Downloading package snowball_data to\n",
            "[nltk_data]    |     /root/nltk_data...\n",
            "[nltk_data]    | Downloading package averaged_perceptron_tagger to\n",
            "[nltk_data]    |     /root/nltk_data...\n",
            "[nltk_data]    |   Unzipping taggers/averaged_perceptron_tagger.zip.\n",
            "[nltk_data]    | \n",
            "[nltk_data]  Done downloading collection popular\n"
          ],
          "name": "stdout"
        },
        {
          "output_type": "execute_result",
          "data": {
            "text/plain": [
              "True"
            ]
          },
          "metadata": {
            "tags": []
          },
          "execution_count": 1
        }
      ]
    },
    {
      "cell_type": "markdown",
      "metadata": {
        "id": "W2fjvYIHRIqp",
        "colab_type": "text"
      },
      "source": [
        "# **Word Tokenization**\n",
        "\n",
        "---\n",
        "\n"
      ]
    },
    {
      "cell_type": "code",
      "metadata": {
        "id": "mfm8GP1yKg30",
        "colab_type": "code",
        "colab": {
          "base_uri": "https://localhost:8080/",
          "height": 54
        },
        "outputId": "d80daa28-93c4-4b80-922f-536b474b07cc"
      },
      "source": [
        "from nltk.tokenize import word_tokenize as wt\n",
        "text = \"Mohandas Karamchand Gandhi was an Indian lawyer, anti-colonial nationalist, and political ethicist, who employed nonviolent resistance to lead the successful campaign for India's independence from British rule, and in turn inspired movements for civil rights and freedom across the world... \"\n",
        "print(wt(text))"
      ],
      "execution_count": 2,
      "outputs": [
        {
          "output_type": "stream",
          "text": [
            "['Mohandas', 'Karamchand', 'Gandhi', 'was', 'an', 'Indian', 'lawyer', ',', 'anti-colonial', 'nationalist', ',', 'and', 'political', 'ethicist', ',', 'who', 'employed', 'nonviolent', 'resistance', 'to', 'lead', 'the', 'successful', 'campaign', 'for', 'India', \"'s\", 'independence', 'from', 'British', 'rule', ',', 'and', 'in', 'turn', 'inspired', 'movements', 'for', 'civil', 'rights', 'and', 'freedom', 'across', 'the', 'world', '...']\n"
          ],
          "name": "stdout"
        }
      ]
    },
    {
      "cell_type": "markdown",
      "metadata": {
        "id": "NUopzGzwRqhS",
        "colab_type": "text"
      },
      "source": [
        "# **Tokenization of paragraphs/sentences**\n",
        "\n",
        "---\n",
        "\n"
      ]
    },
    {
      "cell_type": "code",
      "metadata": {
        "id": "gdDvz_jXKmvx",
        "colab_type": "code",
        "colab": {
          "base_uri": "https://localhost:8080/",
          "height": 54
        },
        "outputId": "4736cdd9-9a2f-4a01-9d55-56ec4020e6f8"
      },
      "source": [
        "import nltk\n",
        "\n",
        "\n",
        "paragraph = \"\"\" Mohandas Karamchand Gandhi was an Indian lawyer, anti-colonial nationalist, and political ethicist, who employed nonviolent resistance to lead the successful campaign for India's independence from British rule, and in turn inspired movements for civil rights and freedom across the world... \"\"\"\n",
        "               \n",
        "# Tokenizing sentences\n",
        "sentences = nltk.sent_tokenize(paragraph)\n",
        "\n",
        "# Tokenizing words\n",
        "words = nltk.word_tokenize(paragraph)\n",
        "print(sentences)"
      ],
      "execution_count": 3,
      "outputs": [
        {
          "output_type": "stream",
          "text": [
            "[\" Mohandas Karamchand Gandhi was an Indian lawyer, anti-colonial nationalist, and political ethicist, who employed nonviolent resistance to lead the successful campaign for India's independence from British rule, and in turn inspired movements for civil rights and freedom across the world...\"]\n"
          ],
          "name": "stdout"
        }
      ]
    },
    {
      "cell_type": "markdown",
      "metadata": {
        "id": "4LuWskW7R17-",
        "colab_type": "text"
      },
      "source": [
        "# **Stop Words**\n",
        "\n",
        "---\n",
        "\n",
        "\n",
        "\n"
      ]
    },
    {
      "cell_type": "code",
      "metadata": {
        "id": "WBHtCkMsKs7k",
        "colab_type": "code",
        "colab": {
          "base_uri": "https://localhost:8080/",
          "height": 101
        },
        "outputId": "8d9cd504-4dbc-4536-dfaf-cf52c661b5e2"
      },
      "source": [
        "from nltk.corpus import stopwords\n",
        "from nltk.tokenize import word_tokenize\n",
        "nltk.download('stopwords')\n",
        "nltk.download('punkt')"
      ],
      "execution_count": 4,
      "outputs": [
        {
          "output_type": "stream",
          "text": [
            "[nltk_data] Downloading package stopwords to /root/nltk_data...\n",
            "[nltk_data]   Package stopwords is already up-to-date!\n",
            "[nltk_data] Downloading package punkt to /root/nltk_data...\n",
            "[nltk_data]   Package punkt is already up-to-date!\n"
          ],
          "name": "stdout"
        },
        {
          "output_type": "execute_result",
          "data": {
            "text/plain": [
              "True"
            ]
          },
          "metadata": {
            "tags": []
          },
          "execution_count": 4
        }
      ]
    },
    {
      "cell_type": "code",
      "metadata": {
        "id": "_JggtYoXKtXC",
        "colab_type": "code",
        "colab": {
          "base_uri": "https://localhost:8080/",
          "height": 87
        },
        "outputId": "946323f7-5c93-4d8c-a412-b2151febc6ca"
      },
      "source": [
        "print(stopwords.words('english'))\n",
        "\n",
        "text = \" Mohandas Karamchand Gandhi was an Indian lawyer, anti-colonial nationalist, and political ethicist, who employed nonviolent resistance to lead the successful campaign for India's independence from British rule, and in turn inspired movements for civil rights and freedom across the world... \"\n",
        "text_tokens = word_tokenize(text)\n",
        "\n",
        "tokens_without_sw = [word for word in text_tokens if not word in stopwords.words('english')]\n",
        "\n",
        "print(text_tokens)\n",
        "print(tokens_without_sw)"
      ],
      "execution_count": 5,
      "outputs": [
        {
          "output_type": "stream",
          "text": [
            "['i', 'me', 'my', 'myself', 'we', 'our', 'ours', 'ourselves', 'you', \"you're\", \"you've\", \"you'll\", \"you'd\", 'your', 'yours', 'yourself', 'yourselves', 'he', 'him', 'his', 'himself', 'she', \"she's\", 'her', 'hers', 'herself', 'it', \"it's\", 'its', 'itself', 'they', 'them', 'their', 'theirs', 'themselves', 'what', 'which', 'who', 'whom', 'this', 'that', \"that'll\", 'these', 'those', 'am', 'is', 'are', 'was', 'were', 'be', 'been', 'being', 'have', 'has', 'had', 'having', 'do', 'does', 'did', 'doing', 'a', 'an', 'the', 'and', 'but', 'if', 'or', 'because', 'as', 'until', 'while', 'of', 'at', 'by', 'for', 'with', 'about', 'against', 'between', 'into', 'through', 'during', 'before', 'after', 'above', 'below', 'to', 'from', 'up', 'down', 'in', 'out', 'on', 'off', 'over', 'under', 'again', 'further', 'then', 'once', 'here', 'there', 'when', 'where', 'why', 'how', 'all', 'any', 'both', 'each', 'few', 'more', 'most', 'other', 'some', 'such', 'no', 'nor', 'not', 'only', 'own', 'same', 'so', 'than', 'too', 'very', 's', 't', 'can', 'will', 'just', 'don', \"don't\", 'should', \"should've\", 'now', 'd', 'll', 'm', 'o', 're', 've', 'y', 'ain', 'aren', \"aren't\", 'couldn', \"couldn't\", 'didn', \"didn't\", 'doesn', \"doesn't\", 'hadn', \"hadn't\", 'hasn', \"hasn't\", 'haven', \"haven't\", 'isn', \"isn't\", 'ma', 'mightn', \"mightn't\", 'mustn', \"mustn't\", 'needn', \"needn't\", 'shan', \"shan't\", 'shouldn', \"shouldn't\", 'wasn', \"wasn't\", 'weren', \"weren't\", 'won', \"won't\", 'wouldn', \"wouldn't\"]\n",
            "['Mohandas', 'Karamchand', 'Gandhi', 'was', 'an', 'Indian', 'lawyer', ',', 'anti-colonial', 'nationalist', ',', 'and', 'political', 'ethicist', ',', 'who', 'employed', 'nonviolent', 'resistance', 'to', 'lead', 'the', 'successful', 'campaign', 'for', 'India', \"'s\", 'independence', 'from', 'British', 'rule', ',', 'and', 'in', 'turn', 'inspired', 'movements', 'for', 'civil', 'rights', 'and', 'freedom', 'across', 'the', 'world', '...']\n",
            "['Mohandas', 'Karamchand', 'Gandhi', 'Indian', 'lawyer', ',', 'anti-colonial', 'nationalist', ',', 'political', 'ethicist', ',', 'employed', 'nonviolent', 'resistance', 'lead', 'successful', 'campaign', 'India', \"'s\", 'independence', 'British', 'rule', ',', 'turn', 'inspired', 'movements', 'civil', 'rights', 'freedom', 'across', 'world', '...']\n"
          ],
          "name": "stdout"
        }
      ]
    },
    {
      "cell_type": "markdown",
      "metadata": {
        "id": "HNFIpXjBSJrn",
        "colab_type": "text"
      },
      "source": [
        "# **Stemming**\n",
        "\n",
        "---\n",
        "\n"
      ]
    },
    {
      "cell_type": "code",
      "metadata": {
        "id": "j4lXmWVPKtdo",
        "colab_type": "code",
        "colab": {
          "base_uri": "https://localhost:8080/",
          "height": 54
        },
        "outputId": "442d5f93-62c0-4164-a603-b5c2c977ca25"
      },
      "source": [
        "from nltk.stem.porter import *\n",
        "\n",
        "porterStemmer = PorterStemmer()\n",
        "\n",
        "sentence=\"Robotics is an interdisciplinary research area at the interface of computer science and engineering. Robotics involves design, construction, operation, and use of robots. The goal of robotics is to design intelligent machines that can help and assist humans in their day-to-day lives and keep everyone safe.\"\n",
        "wordList = nltk.word_tokenize(sentence)\n",
        "\n",
        "stemWords = [porterStemmer.stem(word) for word in wordList]\n",
        "\n",
        "print(' '.join(stemWords))"
      ],
      "execution_count": 8,
      "outputs": [
        {
          "output_type": "stream",
          "text": [
            "robot is an interdisciplinari research area at the interfac of comput scienc and engin . robot involv design , construct , oper , and use of robot . the goal of robot is to design intellig machin that can help and assist human in their day-to-day live and keep everyon safe .\n"
          ],
          "name": "stdout"
        }
      ]
    },
    {
      "cell_type": "markdown",
      "metadata": {
        "id": "VASOMM5YSNXf",
        "colab_type": "text"
      },
      "source": [
        "# **Word Lemma**\n",
        "\n",
        "---\n",
        "\n",
        "\n"
      ]
    },
    {
      "cell_type": "code",
      "metadata": {
        "id": "SQ7oXAizKtjG",
        "colab_type": "code",
        "colab": {
          "base_uri": "https://localhost:8080/",
          "height": 806
        },
        "outputId": "9fa27397-f749-446d-d8c0-9ae64cee36c7"
      },
      "source": [
        "from nltk.stem import WordNetLemmatizer\n",
        "wordnet_lemmatizer = WordNetLemmatizer()\n",
        "\n",
        "sentence = \"Robotics is an interdisciplinary research area at the interface of computer science and engineering. Robotics involves design, construction, operation, and use of robots. The goal of robotics is to design intelligent machines that can help and assist humans in their day-to-day lives and keep everyone safe.\"\n",
        "punctuations=\"?:!.,;\"\n",
        "sentence_words = nltk.word_tokenize(sentence)\n",
        "for word in sentence_words:\n",
        "    if word in punctuations:\n",
        "        sentence_words.remove(word)\n",
        "\n",
        "sentence_words\n",
        "print(\"{0:20}{1:20}\".format(\"word\",\"lemma\"))\n",
        "for word in sentence_words:\n",
        "    print (\"{0:20}{1:20}\".format(word,wordnet_lemmatizer.lemmatize(word)))"
      ],
      "execution_count": 10,
      "outputs": [
        {
          "output_type": "stream",
          "text": [
            "word                lemma               \n",
            "Robotics            Robotics            \n",
            "is                  is                  \n",
            "an                  an                  \n",
            "interdisciplinary   interdisciplinary   \n",
            "research            research            \n",
            "area                area                \n",
            "at                  at                  \n",
            "the                 the                 \n",
            "interface           interface           \n",
            "of                  of                  \n",
            "computer            computer            \n",
            "science             science             \n",
            "and                 and                 \n",
            "engineering         engineering         \n",
            "Robotics            Robotics            \n",
            "involves            involves            \n",
            "design              design              \n",
            "construction        construction        \n",
            "operation           operation           \n",
            "and                 and                 \n",
            "use                 use                 \n",
            "of                  of                  \n",
            "robots              robot               \n",
            "The                 The                 \n",
            "goal                goal                \n",
            "of                  of                  \n",
            "robotics            robotics            \n",
            "is                  is                  \n",
            "to                  to                  \n",
            "design              design              \n",
            "intelligent         intelligent         \n",
            "machines            machine             \n",
            "that                that                \n",
            "can                 can                 \n",
            "help                help                \n",
            "and                 and                 \n",
            "assist              assist              \n",
            "humans              human               \n",
            "in                  in                  \n",
            "their               their               \n",
            "day-to-day          day-to-day          \n",
            "lives               life                \n",
            "and                 and                 \n",
            "keep                keep                \n",
            "everyone            everyone            \n",
            "safe                safe                \n"
          ],
          "name": "stdout"
        }
      ]
    },
    {
      "cell_type": "code",
      "metadata": {
        "id": "VL-6xIdCKtcw",
        "colab_type": "code",
        "colab": {
          "base_uri": "https://localhost:8080/",
          "height": 890
        },
        "outputId": "bf5830f1-db44-46b5-e4ae-b9127450c594"
      },
      "source": [
        "from nltk import word_tokenize, pos_tag\n",
        "from nltk.stem import WordNetLemmatizer\n",
        "wnl = WordNetLemmatizer()\n",
        "txt = \"\"\"Robotics is an interdisciplinary research area at the interface of computer science and engineering. Robotics involves design, construction, operation, and use of robots. The goal of robotics is to design intelligent machines that can help and assist humans in their day-to-day lives and keep everyone safe.\"\"\"\n",
        "[wnl.lemmatize(i,j[0].lower()) if j[0].lower() in ['a','n','v'] else wnl.lemmatize(i) for i,j in pos_tag(word_tokenize(txt))]\n"
      ],
      "execution_count": 11,
      "outputs": [
        {
          "output_type": "execute_result",
          "data": {
            "text/plain": [
              "['Robotics',\n",
              " 'be',\n",
              " 'an',\n",
              " 'interdisciplinary',\n",
              " 'research',\n",
              " 'area',\n",
              " 'at',\n",
              " 'the',\n",
              " 'interface',\n",
              " 'of',\n",
              " 'computer',\n",
              " 'science',\n",
              " 'and',\n",
              " 'engineering',\n",
              " '.',\n",
              " 'Robotics',\n",
              " 'involve',\n",
              " 'design',\n",
              " ',',\n",
              " 'construction',\n",
              " ',',\n",
              " 'operation',\n",
              " ',',\n",
              " 'and',\n",
              " 'use',\n",
              " 'of',\n",
              " 'robot',\n",
              " '.',\n",
              " 'The',\n",
              " 'goal',\n",
              " 'of',\n",
              " 'robotics',\n",
              " 'be',\n",
              " 'to',\n",
              " 'design',\n",
              " 'intelligent',\n",
              " 'machine',\n",
              " 'that',\n",
              " 'can',\n",
              " 'help',\n",
              " 'and',\n",
              " 'assist',\n",
              " 'human',\n",
              " 'in',\n",
              " 'their',\n",
              " 'day-to-day',\n",
              " 'life',\n",
              " 'and',\n",
              " 'keep',\n",
              " 'everyone',\n",
              " 'safe',\n",
              " '.']"
            ]
          },
          "metadata": {
            "tags": []
          },
          "execution_count": 11
        }
      ]
    },
    {
      "cell_type": "code",
      "metadata": {
        "id": "fde145o2KtWR",
        "colab_type": "code",
        "colab": {
          "base_uri": "https://localhost:8080/",
          "height": 857
        },
        "outputId": "9606aad2-685a-4a26-df28-adddeedfeb59"
      },
      "source": [
        "from nltk.tokenize import TreebankWordTokenizer\n",
        "text = \"Robotics is an interdisciplinary research area at the interface of computer science and engineering. Robotics involves design, construction, operation, and use of robots. The goal of robotics is to design intelligent machines that can help and assist humans in their day-to-day lives and keep everyone safe. \"\n",
        "TreebankWordTokenizer().tokenize(text)"
      ],
      "execution_count": 12,
      "outputs": [
        {
          "output_type": "execute_result",
          "data": {
            "text/plain": [
              "['Robotics',\n",
              " 'is',\n",
              " 'an',\n",
              " 'interdisciplinary',\n",
              " 'research',\n",
              " 'area',\n",
              " 'at',\n",
              " 'the',\n",
              " 'interface',\n",
              " 'of',\n",
              " 'computer',\n",
              " 'science',\n",
              " 'and',\n",
              " 'engineering.',\n",
              " 'Robotics',\n",
              " 'involves',\n",
              " 'design',\n",
              " ',',\n",
              " 'construction',\n",
              " ',',\n",
              " 'operation',\n",
              " ',',\n",
              " 'and',\n",
              " 'use',\n",
              " 'of',\n",
              " 'robots.',\n",
              " 'The',\n",
              " 'goal',\n",
              " 'of',\n",
              " 'robotics',\n",
              " 'is',\n",
              " 'to',\n",
              " 'design',\n",
              " 'intelligent',\n",
              " 'machines',\n",
              " 'that',\n",
              " 'can',\n",
              " 'help',\n",
              " 'and',\n",
              " 'assist',\n",
              " 'humans',\n",
              " 'in',\n",
              " 'their',\n",
              " 'day-to-day',\n",
              " 'lives',\n",
              " 'and',\n",
              " 'keep',\n",
              " 'everyone',\n",
              " 'safe',\n",
              " '.']"
            ]
          },
          "metadata": {
            "tags": []
          },
          "execution_count": 12
        }
      ]
    }
  ]
}