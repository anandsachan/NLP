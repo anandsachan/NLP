{
  "nbformat": 4,
  "nbformat_minor": 0,
  "metadata": {
    "colab": {
      "name": "Assignment 2.ipynb",
      "provenance": []
    },
    "kernelspec": {
      "name": "python3",
      "display_name": "Python 3"
    }
  },
  "cells": [
    {
      "cell_type": "markdown",
      "metadata": {
        "id": "_isNW-UetNdt",
        "colab_type": "text"
      },
      "source": [
        "#**Sentimental Analysis for College tweets**"
      ]
    },
    {
      "cell_type": "code",
      "metadata": {
        "id": "i3kfScFCUKqn",
        "colab_type": "code",
        "colab": {
          "base_uri": "https://localhost:8080/",
          "height": 168
        },
        "outputId": "809cafaf-9830-4c63-f245-4e2681da861a"
      },
      "source": [
        "pip install GetOldTweets3"
      ],
      "execution_count": 1,
      "outputs": [
        {
          "output_type": "stream",
          "text": [
            "Collecting GetOldTweets3\n",
            "  Downloading https://files.pythonhosted.org/packages/ed/f4/a00c2a7c90801abc875325bb5416ce9090ac86d06a00cc887131bd73ba45/GetOldTweets3-0.0.11-py3-none-any.whl\n",
            "Requirement already satisfied: lxml>=3.5.0 in /usr/local/lib/python3.6/dist-packages (from GetOldTweets3) (4.2.6)\n",
            "Collecting pyquery>=1.2.10\n",
            "  Downloading https://files.pythonhosted.org/packages/78/43/95d42e386c61cb639d1a0b94f0c0b9f0b7d6b981ad3c043a836c8b5bc68b/pyquery-1.4.1-py2.py3-none-any.whl\n",
            "Collecting cssselect>0.7.9\n",
            "  Downloading https://files.pythonhosted.org/packages/3b/d4/3b5c17f00cce85b9a1e6f91096e1cc8e8ede2e1be8e96b87ce1ed09e92c5/cssselect-1.1.0-py2.py3-none-any.whl\n",
            "Installing collected packages: cssselect, pyquery, GetOldTweets3\n",
            "Successfully installed GetOldTweets3-0.0.11 cssselect-1.1.0 pyquery-1.4.1\n"
          ],
          "name": "stdout"
        }
      ]
    },
    {
      "cell_type": "code",
      "metadata": {
        "id": "27ebZrQzjujC",
        "colab_type": "code",
        "colab": {}
      },
      "source": [
        "import re \n",
        "from textblob import TextBlob \n",
        "import GetOldTweets3 as got\n",
        "from matplotlib import pyplot as plt\n"
      ],
      "execution_count": 2,
      "outputs": []
    },
    {
      "cell_type": "code",
      "metadata": {
        "id": "ewhKdvYGk8DF",
        "colab_type": "code",
        "colab": {}
      },
      "source": [
        " def clean_tweet(tweet): \n",
        "        return ' '.join(re.sub(\"(@[A-Za-z0-9]+)|([^0-9A-Za-z \\t]) |(\\w+:\\/\\/\\S+)\", \" \", tweet).split()) "
      ],
      "execution_count": 3,
      "outputs": []
    },
    {
      "cell_type": "markdown",
      "metadata": {
        "id": "nnIuEMbutYkT",
        "colab_type": "text"
      },
      "source": [
        "#Tweets from 2019-12-01 to 2020-03-30"
      ]
    },
    {
      "cell_type": "code",
      "metadata": {
        "id": "3P52pryHlsaN",
        "colab_type": "code",
        "colab": {}
      },
      "source": [
        "tweetCriteria = got.manager.TweetCriteria().setQuerySearch('College')\\\n",
        "                                           .setSince(\"2019-12-01\")\\\n",
        "                                           .setUntil(\"2020-03-30\")\\\n",
        "                                           .setMaxTweets(100)\n",
        "tweet = got.manager.TweetManager.getTweets(tweetCriteria)"
      ],
      "execution_count": 4,
      "outputs": []
    },
    {
      "cell_type": "code",
      "metadata": {
        "id": "lZQUX2D-m0Ws",
        "colab_type": "code",
        "colab": {}
      },
      "source": [
        "def get_tweet_sentiment(tweet): \n",
        "        \n",
        "        analysis = TextBlob(clean_tweet(tweet)) \n",
        "\n",
        "        if analysis.sentiment.polarity > 0: \n",
        "            return 'positive'\n",
        "        elif analysis.sentiment.polarity == 0: \n",
        "            return 'neutral'\n",
        "        else: \n",
        "            return 'negative'"
      ],
      "execution_count": 5,
      "outputs": []
    },
    {
      "cell_type": "code",
      "metadata": {
        "id": "G4ceQPtKnKOo",
        "colab_type": "code",
        "colab": {}
      },
      "source": [
        "tweets=[]\n",
        "for tw in tweet: \n",
        "\n",
        "  parsed_tweet = {}\n",
        "  parsed_tweet['text'] = tw.text \n",
        "  parsed_tweet['sentiment'] =get_tweet_sentiment(tw.text) \n",
        "  if tw.retweets > 0: \n",
        "    if parsed_tweet not in tweets: \n",
        "      tweets.append(parsed_tweet) \n",
        "    else:\n",
        "      tweets.append(parsed_tweet)"
      ],
      "execution_count": 7,
      "outputs": []
    },
    {
      "cell_type": "code",
      "metadata": {
        "id": "R6tDy8jYp-B3",
        "colab_type": "code",
        "colab": {}
      },
      "source": [
        "pive_tweets = [tweet for tweet in tweets if tweet['sentiment'] == 'positive']\n",
        "nive_tweets = [tweet for tweet in tweets if tweet['sentiment'] == 'negative']\n",
        "neutral_tweets=[tweet for tweet in tweets if tweet['sentiment']=='neutral']\n",
        "per_ptweets=len(pive_tweets)/len(tweets)*100\n",
        "per_ntweets=len(nive_tweets)/len(tweets)*100\n",
        "per_neutral=len(neutral_tweets)/len(tweets)*100\n",
        "lab=['Positive','Negative','Neutral']\n",
        "data=[per_ptweets,per_ntweets,per_neutral]\n"
      ],
      "execution_count": 8,
      "outputs": []
    },
    {
      "cell_type": "code",
      "metadata": {
        "id": "kJvORUmtsPTi",
        "colab_type": "code",
        "colab": {
          "base_uri": "https://localhost:8080/",
          "height": 411
        },
        "outputId": "6259fd88-69c0-4cf5-9523-9a7883f2c7b5"
      },
      "source": [
        "fig = plt.figure(figsize =(10, 7)) \n",
        "plt.pie(data, labels = lab) \n",
        "plt.show()"
      ],
      "execution_count": 9,
      "outputs": [
        {
          "output_type": "display_data",
          "data": {
            "image/png": "[encoded data removed]",
            "text/plain": [
              "<Figure size 720x504 with 1 Axes>"
            ]
          },
          "metadata": {
            "tags": []
          }
        }
      ]
    },
    {
      "cell_type": "markdown",
      "metadata": {
        "id": "TpsUWZxGtoE3",
        "colab_type": "text"
      },
      "source": [
        "#Tweets From 2020-03-30 to 2020-05-30"
      ]
    },
    {
      "cell_type": "code",
      "metadata": {
        "id": "1dAwrQajsk1y",
        "colab_type": "code",
        "colab": {}
      },
      "source": [
        "tweetCriteria = got.manager.TweetCriteria().setQuerySearch('College')\\\n",
        "                                           .setSince(\"2020-03-30\")\\\n",
        "                                           .setUntil(\"2020-05-30\")\\\n",
        "                                           .setMaxTweets(100)\n",
        "tweet = got.manager.TweetManager.getTweets(tweetCriteria)"
      ],
      "execution_count": 10,
      "outputs": []
    },
    {
      "cell_type": "code",
      "metadata": {
        "id": "pTMspFE5syAZ",
        "colab_type": "code",
        "colab": {}
      },
      "source": [
        "tweets=[]\n",
        "for tw in tweet: \n",
        "\n",
        "  parsed_tweet = {}\n",
        "  parsed_tweet['text'] = tw.text \n",
        "  parsed_tweet['sentiment'] =get_tweet_sentiment(tw.text) \n",
        "  if tw.retweets > 0: \n",
        "    if parsed_tweet not in tweets: \n",
        "      tweets.append(parsed_tweet) \n",
        "    else:\n",
        "      tweets.append(parsed_tweet)"
      ],
      "execution_count": 11,
      "outputs": []
    },
    {
      "cell_type": "code",
      "metadata": {
        "id": "UwC3Agrns3e5",
        "colab_type": "code",
        "colab": {}
      },
      "source": [
        "pive_tweets = [tweet for tweet in tweets if tweet['sentiment'] == 'positive']\n",
        "nive_tweets = [tweet for tweet in tweets if tweet['sentiment'] == 'negative']\n",
        "neutral_tweets=[tweet for tweet in tweets if tweet['sentiment']=='neutral']\n",
        "per_ptweets=len(pive_tweets)/len(tweets)*100\n",
        "per_ntweets=len(nive_tweets)/len(tweets)*100\n",
        "per_neutral=len(neutral_tweets)/len(tweets)*100\n",
        "lab=['Positive','Negative','Neutral']\n",
        "data=[per_ptweets,per_ntweets,per_neutral]"
      ],
      "execution_count": 12,
      "outputs": []
    },
    {
      "cell_type": "code",
      "metadata": {
        "id": "Etc7OXaas6yM",
        "colab_type": "code",
        "colab": {
          "base_uri": "https://localhost:8080/",
          "height": 411
        },
        "outputId": "667d4b7f-c224-4132-9862-a6f8196bf8d0"
      },
      "source": [
        "fig = plt.figure(figsize =(10, 7)) \n",
        "plt.pie(data, labels = lab) \n",
        "plt.show()"
      ],
      "execution_count": 13,
      "outputs": [
        {
          "output_type": "display_data",
          "data": {
            "image/png": "[encoded data removed]",
            "text/plain": [
              "<Figure size 720x504 with 1 Axes>"
            ]
          },
          "metadata": {
            "tags": []
          }
        }
      ]
    },
    {
      "cell_type": "markdown",
      "metadata": {
        "id": "YODsp71355J0",
        "colab_type": "text"
      },
      "source": [
        "#**Sentimental Analysis on tweets Regarding Sonu Sood**"
      ]
    },
    {
      "cell_type": "code",
      "metadata": {
        "id": "ZP6j4fNa6Jg-",
        "colab_type": "code",
        "colab": {}
      },
      "source": [
        "tweetCriteria = got.manager.TweetCriteria().setQuerySearch('Sonu Sood')\\\n",
        "                                           .setSince(\"2020-01-01\")\\\n",
        "                                           .setUntil(\"2020-06-13\")\\\n",
        "                                           .setMaxTweets(100)\n",
        "tweet = got.manager.TweetManager.getTweets(tweetCriteria)"
      ],
      "execution_count": 17,
      "outputs": []
    },
    {
      "cell_type": "code",
      "metadata": {
        "id": "cNC7S71b6bjp",
        "colab_type": "code",
        "colab": {}
      },
      "source": [
        "tweets=[]\n",
        "for tw in tweet: \n",
        "\n",
        "  parsed_tweet = {}\n",
        "  parsed_tweet['text'] = tw.text \n",
        "  parsed_tweet['sentiment'] =get_tweet_sentiment(tw.text) \n",
        "  if tw.retweets > 0: \n",
        "    if parsed_tweet not in tweets: \n",
        "      tweets.append(parsed_tweet) \n",
        "    else:\n",
        "      tweets.append(parsed_tweet)"
      ],
      "execution_count": 18,
      "outputs": []
    },
    {
      "cell_type": "code",
      "metadata": {
        "id": "-UOQcLe261Gx",
        "colab_type": "code",
        "colab": {}
      },
      "source": [
        "pive_tweets = [tweet for tweet in tweets if tweet['sentiment'] == 'positive']\n",
        "nive_tweets = [tweet for tweet in tweets if tweet['sentiment'] == 'negative']\n",
        "neutral_tweets=[tweet for tweet in tweets if tweet['sentiment']=='neutral']\n",
        "per_ptweets=len(pive_tweets)/len(tweets)*100\n",
        "per_ntweets=len(nive_tweets)/len(tweets)*100\n",
        "per_neutral=len(neutral_tweets)/len(tweets)*100\n",
        "lab=['Positive','Negative','Neutral']\n",
        "data=[per_ptweets,per_ntweets,per_neutral]\n"
      ],
      "execution_count": 19,
      "outputs": []
    },
    {
      "cell_type": "code",
      "metadata": {
        "id": "Ve3QJXrp67t2",
        "colab_type": "code",
        "colab": {
          "base_uri": "https://localhost:8080/",
          "height": 411
        },
        "outputId": "1c8a4e3a-3869-452a-9676-c36e3f408f6b"
      },
      "source": [
        "fig = plt.figure(figsize =(10, 7)) \n",
        "plt.pie(data, labels = lab) \n",
        "plt.show()"
      ],
      "execution_count": 20,
      "outputs": [
        {
          "output_type": "display_data",
          "data": {
            "image/png": "[encoded data removed]",
            "text/plain": [
              "<Figure size 720x504 with 1 Axes>"
            ]
          },
          "metadata": {
            "tags": []
          }
        }
      ]
    },
    {
      "cell_type": "markdown",
      "metadata": {
        "id": "7oodUqNW7NGl",
        "colab_type": "text"
      },
      "source": [
        "#Job"
      ]
    },
    {
      "cell_type": "code",
      "metadata": {
        "id": "0zgE-EYS7FZx",
        "colab_type": "code",
        "colab": {}
      },
      "source": [
        "tweetCriteria = got.manager.TweetCriteria().setQuerySearch('Job')\\\n",
        "                                           .setSince(\"2020-06-14\")\\\n",
        "                                           .setUntil(\"2020-08-31\")\\\n",
        "                                           .setMaxTweets(100)\n",
        "tweet = got.manager.TweetManager.getTweets(tweetCriteria)"
      ],
      "execution_count": 21,
      "outputs": []
    },
    {
      "cell_type": "code",
      "metadata": {
        "id": "Xp3Xiz0j7YwY",
        "colab_type": "code",
        "colab": {}
      },
      "source": [
        "tweets=[]\n",
        "for tw in tweet: \n",
        "\n",
        "  parsed_tweet = {}\n",
        "  parsed_tweet['text'] = tw.text \n",
        "  parsed_tweet['sentiment'] =get_tweet_sentiment(tw.text) \n",
        "  if tw.retweets > 0: \n",
        "    if parsed_tweet not in tweets: \n",
        "      tweets.append(parsed_tweet) \n",
        "    else:\n",
        "      tweets.append(parsed_tweet)"
      ],
      "execution_count": 22,
      "outputs": []
    },
    {
      "cell_type": "code",
      "metadata": {
        "id": "xIrikZCG7dn3",
        "colab_type": "code",
        "colab": {}
      },
      "source": [
        "pive_tweets = [tweet for tweet in tweets if tweet['sentiment'] == 'positive']\n",
        "nive_tweets = [tweet for tweet in tweets if tweet['sentiment'] == 'negative']\n",
        "neutral_tweets=[tweet for tweet in tweets if tweet['sentiment']=='neutral']\n",
        "per_ptweets=len(pive_tweets)/len(tweets)*100\n",
        "per_ntweets=len(nive_tweets)/len(tweets)*100\n",
        "per_neutral=len(neutral_tweets)/len(tweets)*100\n",
        "lab=['Positive','Negative','Neutral']\n",
        "data=[per_ptweets,per_ntweets,per_neutral]\n"
      ],
      "execution_count": 23,
      "outputs": []
    },
    {
      "cell_type": "code",
      "metadata": {
        "id": "ziydvsxs7g-T",
        "colab_type": "code",
        "colab": {
          "base_uri": "https://localhost:8080/",
          "height": 411
        },
        "outputId": "afe83467-8a80-44f2-b266-8b06d217fbf6"
      },
      "source": [
        "fig = plt.figure(figsize =(10, 7)) \n",
        "plt.pie(data, labels = lab) \n",
        "plt.show()"
      ],
      "execution_count": 24,
      "outputs": [
        {
          "output_type": "display_data",
          "data": {
            "image/png": "[encoded data removed]",
            "text/plain": [
              "<Figure size 720x504 with 1 Axes>"
            ]
          },
          "metadata": {
            "tags": []
          }
        }
      ]
    }
  ]
}